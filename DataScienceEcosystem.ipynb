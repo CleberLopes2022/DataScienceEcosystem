{
  "nbformat": 4,
  "nbformat_minor": 0,
  "metadata": {
    "colab": {
      "provenance": []
    },
    "kernelspec": {
      "name": "python3",
      "display_name": "Python 3"
    },
    "language_info": {
      "name": "python"
    }
  },
  "cells": [
    {
      "cell_type": "markdown",
      "source": [
        "# **Data Science Tools and Ecosystem**"
      ],
      "metadata": {
        "id": "f4RxHqWpwhIm"
      }
    },
    {
      "cell_type": "markdown",
      "source": [
        "## In this notebook, Data Science Tools and Ecosystem are summarized."
      ],
      "metadata": {
        "id": "ySU6MBKNxwa5"
      }
    },
    {
      "cell_type": "markdown",
      "source": [
        "### Some of the popular languages that Data Scientists use are:\n",
        "\n",
        "* Python\n",
        "\n",
        "* R\n",
        "\n",
        "* SQL\n",
        "\n",
        "* Scala\n",
        "\n",
        "* Java\n",
        "\n",
        "* C++\n",
        "\n",
        "* Julia\n",
        "\n",
        "* JavaScript\n",
        "\n",
        "* PHP\n",
        "\n",
        "* Go\n",
        "\n",
        "* Ruby\n",
        "\n",
        "* Visual Basic\n",
        "\n",
        "\n"
      ],
      "metadata": {
        "id": "A3SywVm4yfiW"
      }
    },
    {
      "cell_type": "markdown",
      "source": [
        "### Some of the commonly used libraries used by Data Scientists include:\n",
        "\n",
        "\n",
        "1. Pandas\n",
        "2. Numpy\n",
        "3. Sklearning\n",
        "4. Matplotlib\n",
        "5. Seaborn\n",
        "6. Pytorch\n",
        "7. Keras\n",
        "8. TensorFlow\n",
        "9. Apache Spark\n",
        "\n"
      ],
      "metadata": {
        "id": "05z6wOqCzQGg"
      }
    },
    {
      "cell_type": "markdown",
      "source": [
        "## Data Science Tools\n",
        "\n",
        "| Data Science Tools |\n",
        "|--------------------|\n",
        "| Anaconda           |\n",
        "| Jupyter Notebooks  |\n",
        "| R Studio           |\n",
        "| Spyder             |\n",
        "| Zeppelin           |"
      ],
      "metadata": {
        "id": "mnErz27B0BOL"
      }
    },
    {
      "cell_type": "markdown",
      "source": [
        "### Below are a few examples of evaluating arithmetic expressions in Python"
      ],
      "metadata": {
        "id": "jBeaseAd2lXL"
      }
    },
    {
      "cell_type": "code",
      "execution_count": null,
      "metadata": {
        "colab": {
          "base_uri": "https://localhost:8080/"
        },
        "id": "yAQb4UE-we-d",
        "outputId": "fab796f7-346d-4018-a2f2-8ccd23ddb010"
      },
      "outputs": [
        {
          "output_type": "execute_result",
          "data": {
            "text/plain": [
              "4"
            ]
          },
          "metadata": {},
          "execution_count": 1
        }
      ],
      "source": [
        "2 + 2\n"
      ]
    },
    {
      "cell_type": "code",
      "source": [
        "2 / 2"
      ],
      "metadata": {
        "colab": {
          "base_uri": "https://localhost:8080/"
        },
        "id": "NfQgwh3M2AsP",
        "outputId": "677d0216-58b3-475d-a85c-288f4c3b290c"
      },
      "execution_count": null,
      "outputs": [
        {
          "output_type": "execute_result",
          "data": {
            "text/plain": [
              "1.0"
            ]
          },
          "metadata": {},
          "execution_count": 2
        }
      ]
    },
    {
      "cell_type": "code",
      "source": [
        "2 * 5"
      ],
      "metadata": {
        "colab": {
          "base_uri": "https://localhost:8080/"
        },
        "id": "vi1jqrNs2FQ3",
        "outputId": "68b8f8ef-2a85-4e85-8a87-44c9f5fc49dc"
      },
      "execution_count": null,
      "outputs": [
        {
          "output_type": "execute_result",
          "data": {
            "text/plain": [
              "10"
            ]
          },
          "metadata": {},
          "execution_count": 3
        }
      ]
    },
    {
      "cell_type": "markdown",
      "source": [
        "###  This a simple arithmetic expression to mutiply then add integers"
      ],
      "metadata": {
        "id": "BU3WVG7R2vrv"
      }
    },
    {
      "cell_type": "code",
      "source": [
        "(3*4)+5"
      ],
      "metadata": {
        "colab": {
          "base_uri": "https://localhost:8080/"
        },
        "id": "mCIcmXjo2Jc_",
        "outputId": "6c988208-ffd1-4b74-b251-89b4128000f5"
      },
      "execution_count": null,
      "outputs": [
        {
          "output_type": "execute_result",
          "data": {
            "text/plain": [
              "17"
            ]
          },
          "metadata": {},
          "execution_count": 4
        }
      ]
    },
    {
      "cell_type": "markdown",
      "source": [
        "###  This will convert 200 minutes to hours by diving by 60"
      ],
      "metadata": {
        "id": "Yw3BjSte3ziq"
      }
    },
    {
      "cell_type": "code",
      "source": [
        "200 / 60"
      ],
      "metadata": {
        "colab": {
          "base_uri": "https://localhost:8080/"
        },
        "id": "Vz66zQgM3T35",
        "outputId": "75fc5e8a-c3d2-4c72-9090-f42807020a80"
      },
      "execution_count": null,
      "outputs": [
        {
          "output_type": "execute_result",
          "data": {
            "text/plain": [
              "3.3333333333333335"
            ]
          },
          "metadata": {},
          "execution_count": 5
        }
      ]
    },
    {
      "cell_type": "markdown",
      "source": [
        "### Objetivos:\n",
        "\n",
        "*   Adicionar comentarios nas celulas\n",
        "*   Criar uma celula markdown\n",
        "*   Lista Ordenada\n",
        "*   Cabeçalhos\n",
        "\n",
        "\n",
        "\n"
      ],
      "metadata": {
        "id": "GH_IEjk6Emhq"
      }
    },
    {
      "cell_type": "markdown",
      "source": [
        "## **Autor**\n",
        "\n",
        "### Cleber Lopes\n",
        "### Simone Lopes"
      ],
      "metadata": {
        "id": "8KwwMi6qFF_0"
      }
    }
  ]
}